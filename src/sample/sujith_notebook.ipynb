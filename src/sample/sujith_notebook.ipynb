{
 "cells": [
  {
   "cell_type": "code",
   "execution_count": 3,
   "id": "a1411787-f576-44c3-8799-48392cf46ecb",
   "metadata": {},
   "outputs": [
    {
     "name": "stdout",
     "output_type": "stream",
     "text": [
      "3.8.18 (default, Dec  1 2023, 03:21:07) \n",
      "[GCC 9.3.1 20200408 (Red Hat 9.3.1-2)]\n",
      "mineesh\n",
      "sujith\n"
     ]
    }
   ],
   "source": [
    "import sys\n",
    "print(sys.version)\n",
    "print('mineesh')\n",
    "print('sujith')"
   ]
  },
  {
   "cell_type": "code",
   "execution_count": null,
   "id": "368bed79-35b8-4a7c-8e9f-cddc1d8fde78",
   "metadata": {},
   "outputs": [],
   "source": []
  }
 ],
 "metadata": {
  "kernelspec": {
   "display_name": "Python 3",
   "language": "python",
   "name": "python3"
  },
  "language_info": {
   "codemirror_mode": {
    "name": "ipython",
    "version": 3
   },
   "file_extension": ".py",
   "mimetype": "text/x-python",
   "name": "python",
   "nbconvert_exporter": "python",
   "pygments_lexer": "ipython3",
   "version": "3.8.18"
  }
 },
 "nbformat": 4,
 "nbformat_minor": 5
}
