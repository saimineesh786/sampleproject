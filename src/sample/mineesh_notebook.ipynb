{
 "cells": [
  {
   "cell_type": "code",
   "execution_count": null,
   "id": "4681e41c-cf33-47b4-b434-a09a40150f54",
   "metadata": {},
   "outputs": [],
   "source": [
    "import pkg_resources\n",
    "\n",
    "def get_installed_packages():\n",
    "    installed_packages = []\n",
    "    for package in pkg_resources.working_set:\n",
    "        installed_packages.append(package.project_name)\n",
    "    return installed_packages\n",
    "\n",
    "if __name__ == \"__main__\":\n",
    "    installed_packages = get_installed_packages()\n",
    "    print(\"Installed Python packages:\")\n",
    "    for package in installed_packages:\n",
    "        print(package)\n"
   ]
  }
 ],
 "metadata": {
  "kernelspec": {
   "display_name": "conda_python3_kernel_conda_env",
   "language": "python",
   "name": "conda_python3_kernel_conda_env"
  },
  "language_info": {
   "codemirror_mode": {
    "name": "ipython",
    "version": 3
   },
   "file_extension": ".py",
   "mimetype": "text/x-python",
   "name": "python",
   "nbconvert_exporter": "python",
   "pygments_lexer": "ipython3",
   "version": "3.8.15"
  }
 },
 "nbformat": 4,
 "nbformat_minor": 5
}
