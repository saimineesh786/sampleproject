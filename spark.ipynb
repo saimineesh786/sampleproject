{
 "cells": [
  {
   "cell_type": "code",
   "execution_count": null,
   "id": "25883eec-270a-44e6-8933-c18ed359bd0b",
   "metadata": {},
   "outputs": [],
   "source": [
    "spark"
   ]
  },
  {
   "cell_type": "code",
   "execution_count": null,
   "id": "854396a1-4bd6-496c-8b0f-16b573d03efe",
   "metadata": {},
   "outputs": [],
   "source": []
  }
 ],
 "metadata": {
  "kernelspec": {
   "display_name": "PySpark",
   "language": "python",
   "name": "pysparkkernel"
  },
  "language_info": {
   "name": ""
  }
 },
 "nbformat": 4,
 "nbformat_minor": 5
}
